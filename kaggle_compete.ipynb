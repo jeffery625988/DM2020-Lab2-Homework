{
 "cells": [
  {
   "cell_type": "code",
   "execution_count": 1,
   "metadata": {},
   "outputs": [],
   "source": [
    "import json\n",
    "import pandas as pd\n",
    "\n",
    "#open json file\n",
    "f = open('tweets_DM.json','r',encoding = 'utf-8')\n",
    "\n",
    "#load data\n",
    "\n",
    "tweets = []\n",
    "for line in f.readlines():\n",
    "    dic = json.loads(line)\n",
    "    tweets.append(dic)\n",
    "    \n",
    "f.close()"
   ]
  },
  {
   "cell_type": "code",
   "execution_count": 4,
   "metadata": {},
   "outputs": [],
   "source": [
    "import csv\n",
    "with open('emotion.csv', newline='') as csvfile:\n",
    "\n",
    "  # 讀取 CSV 檔內容，將每一列轉成一個 dictionary\n",
    "  rows = csv.DictReader(csvfile)\n",
    "  label = dict()\n",
    "  # 以迴圈輸出指定欄位\n",
    "  for row in rows:\n",
    "    label[row['tweet_id']] = row['emotion']\n",
    "    \n",
    "csvfile.close()"
   ]
  },
  {
   "cell_type": "code",
   "execution_count": 5,
   "metadata": {},
   "outputs": [],
   "source": [
    "with open('data_identification.csv') as csvfile:\n",
    "\n",
    "  # 讀取 CSV 檔內容，將每一列轉成一個 dictionary\n",
    "  rows = csv.DictReader(csvfile)\n",
    "  identi = dict()\n",
    "  # 以迴圈輸出指定欄位\n",
    "  for row in rows:\n",
    "    identi[row['tweet_id']] = row['identification']\n",
    "    \n",
    "csvfile.close()"
   ]
  },
  {
   "cell_type": "code",
   "execution_count": 6,
   "metadata": {},
   "outputs": [],
   "source": [
    "#seperate trainingset and testing data\n",
    "trainset = []\n",
    "testset = []\n",
    "for i in tweets:\n",
    "    if identi[i['_source']['tweet']['tweet_id']] == 'train': \n",
    "        trainset.append(i)\n",
    "    else:\n",
    "        testset.append(i)"
   ]
  },
  {
   "cell_type": "code",
   "execution_count": 7,
   "metadata": {},
   "outputs": [],
   "source": [
    "#add label in trainset\n",
    "for data in trainset:\n",
    "    data['label'] = label[data['_source']['tweet']['tweet_id']] \n",
    "    data['hashtag'] = data['_source']['tweet']['hashtags']\n",
    "    data['text'] =  data['_source']['tweet']['text']\n",
    "    data['tweet_id'] =  data['_source']['tweet']['tweet_id']"
   ]
  },
  {
   "cell_type": "code",
   "execution_count": 8,
   "metadata": {},
   "outputs": [],
   "source": [
    "for data in testset:\n",
    "    data['hashtag'] = data['_source']['tweet']['hashtags']\n",
    "    data['text'] =  data['_source']['tweet']['text']\n",
    "    data['tweet_id'] =  data['_source']['tweet']['tweet_id']"
   ]
  },
  {
   "cell_type": "code",
   "execution_count": 9,
   "metadata": {},
   "outputs": [],
   "source": [
    "#先從trainset 著手\n",
    "\n",
    "Train = pd.DataFrame.from_dict(trainset)\n",
    "Test  = pd.DataFrame.from_dict(testset)"
   ]
  },
  {
   "cell_type": "code",
   "execution_count": 119,
   "metadata": {},
   "outputs": [],
   "source": [
    "#sample data \n",
    "Train_sample = Train.sample(n=100000)\n"
   ]
  },
  {
   "cell_type": "code",
   "execution_count": 11,
   "metadata": {},
   "outputs": [],
   "source": [
    "import matplotlib.pyplot as plt\n",
    "%matplotlib inline"
   ]
  },
  {
   "cell_type": "code",
   "execution_count": 12,
   "metadata": {},
   "outputs": [
    {
     "name": "stdout",
     "output_type": "stream",
     "text": [
      "joy             17839\n",
      "anticipation     8506\n",
      "trust            7082\n",
      "sadness          6660\n",
      "disgust          4734\n",
      "fear             2098\n",
      "surprise         1726\n",
      "anger            1355\n",
      "Name: label, dtype: int64\n"
     ]
    },
    {
     "data": {
      "text/plain": [
       "<matplotlib.axes._subplots.AxesSubplot at 0x1f4b351f308>"
      ]
     },
     "execution_count": 12,
     "metadata": {},
     "output_type": "execute_result"
    },
    {
     "data": {
      "image/png": "[encoded data removed]",
      "text/plain": [
       "<Figure size 576x432 with 1 Axes>"
      ]
     },
     "metadata": {
      "needs_background": "light"
     },
     "output_type": "display_data"
    }
   ],
   "source": [
    "print(Train_sample.label.value_counts())\n",
    "\n",
    "Train_sample.label.value_counts().plot(kind = 'bar',\n",
    "                                    ylim = [0, 650],        \n",
    "                                    rot = 0, fontsize = 11, figsize = (8,6))"
   ]
  },
  {
   "cell_type": "code",
   "execution_count": 11,
   "metadata": {},
   "outputs": [],
   "source": [
    "#data balance do not do this part\n",
    "g = Train.groupby('label')\n",
    "Train_sample = g.apply(lambda x: x.sample(g.size().min()).reset_index(drop=True))"
   ]
  },
  {
   "cell_type": "code",
   "execution_count": 12,
   "metadata": {},
   "outputs": [
    {
     "name": "stdout",
     "output_type": "stream",
     "text": [
      "318936\n"
     ]
    }
   ],
   "source": [
    "print(len(Train_sample))"
   ]
  },
  {
   "cell_type": "code",
   "execution_count": 13,
   "metadata": {},
   "outputs": [],
   "source": [
    "#data balance do not do thispart\n",
    "Train_sample = Train_sample.sample(n=len(Train_sample))"
   ]
  },
  {
   "cell_type": "code",
   "execution_count": 14,
   "metadata": {},
   "outputs": [
    {
     "name": "stdout",
     "output_type": "stream",
     "text": [
      "anticipation    39867\n",
      "trust           39867\n",
      "joy             39867\n",
      "surprise        39867\n",
      "disgust         39867\n",
      "anger           39867\n",
      "fear            39867\n",
      "sadness         39867\n",
      "Name: label, dtype: int64\n"
     ]
    }
   ],
   "source": [
    "#data balance do not do this part\n",
    "rint(Train_sample.label.value_counts())"
   ]
  },
  {
   "cell_type": "code",
   "execution_count": 21,
   "metadata": {},
   "outputs": [],
   "source": [
    "import numpy as np\n",
    "import pandas as pd \n",
    "\n",
    "\n",
    "import os\n",
    "\n",
    "from sklearn.model_selection import train_test_split\n",
    "from keras.models import Sequential\n",
    "from keras.layers import LSTM,Dense,Dropout,Embedding,CuDNNLSTM,Bidirectional,Flatten\n",
    "from keras_self_attention import SeqSelfAttention, SeqWeightedAttention\n",
    "from keras.preprocessing.text import Tokenizer\n",
    "from keras.preprocessing.sequence import pad_sequences\n",
    "\n",
    "from tqdm import tqdm\n",
    "import matplotlib.pyplot as plt\n",
    "import seaborn as sns"
   ]
  },
  {
   "cell_type": "code",
   "execution_count": 120,
   "metadata": {},
   "outputs": [],
   "source": [
    "x = Train_sample['text']\n",
    "y = Train_sample['label']"
   ]
  },
  {
   "cell_type": "code",
   "execution_count": 121,
   "metadata": {},
   "outputs": [],
   "source": [
    "from sklearn.preprocessing import LabelEncoder\n",
    "import keras\n",
    "label_encoder = LabelEncoder()\n",
    "label_encoder.fit(y)\n",
    "def label_encode(le, labels):\n",
    "    enc = le.transform(labels)\n",
    "    return keras.utils.to_categorical(enc)\n",
    "\n",
    "def label_decode(le, one_hot_label):\n",
    "    dec = np.argmax(one_hot_label, axis=1)\n",
    "    return le.inverse_transform(dec)\n",
    "\n",
    "y = label_encode(label_encoder, y)"
   ]
  },
  {
   "cell_type": "code",
   "execution_count": 122,
   "metadata": {},
   "outputs": [],
   "source": [
    "token = Tokenizer()\n",
    "token.fit_on_texts(x)\n",
    "seq = token.texts_to_sequences(x)"
   ]
  },
  {
   "cell_type": "code",
   "execution_count": 123,
   "metadata": {},
   "outputs": [],
   "source": [
    "pad_seq = pad_sequences(seq,maxlen=200)"
   ]
  },
  {
   "cell_type": "code",
   "execution_count": 124,
   "metadata": {},
   "outputs": [],
   "source": [
    "vocab_size = len(token.word_index)+1"
   ]
  },
  {
   "cell_type": "code",
   "execution_count": 125,
   "metadata": {},
   "outputs": [],
   "source": [
    "X_train, X_test, Y_train, Y_test = train_test_split(pad_seq, y, test_size=0.25)"
   ]
  },
  {
   "cell_type": "code",
   "execution_count": 23,
   "metadata": {},
   "outputs": [
    {
     "name": "stderr",
     "output_type": "stream",
     "text": [
      "1193514it [01:07, 17684.62it/s]\n"
     ]
    }
   ],
   "source": [
    "#need download the glove pre-training embedding\n",
    "embedding_vector = {}\n",
    "f = open('glove.twitter.27B.200d.txt','r', encoding=\"utf-8\")\n",
    "for line in tqdm(f):\n",
    "    value = line.split(' ')\n",
    "    word = value[0]\n",
    "    coef = np.array(value[1:],dtype = 'float32')\n",
    "    embedding_vector[word] = coef"
   ]
  },
  {
   "cell_type": "code",
   "execution_count": null,
   "metadata": {},
   "outputs": [
    {
     "name": "stderr",
     "output_type": "stream",
     "text": [
      " 27%|████████████████████▏                                                     | 34841/127560 [02:41<07:30, 205.85it/s]"
     ]
    }
   ],
   "source": [
    "embedding_matrix = np.zeros((vocab_size,200))\n",
    "for word,i in tqdm(token.word_index.items()):\n",
    "    embedding_value = embedding_vector.get(word)\n",
    "    if embedding_value is not None:\n",
    "        embedding_matrix[i] = embedding_value"
   ]
  },
  {
   "cell_type": "code",
   "execution_count": null,
   "metadata": {},
   "outputs": [],
   "source": [
    "model = Sequential()\n",
    "model.add(Embedding(vocab_size,200,weights = [embedding_matrix],input_length=200,trainable = False))\n",
    "model.add(Bidirectional(CuDNNLSTM(75,return_sequences=True)))\n",
    "model.add(Dropout(0.2))\n",
    "#model.add(SeqSelfAttention(attention_activation='sigmoid'))\n",
    "#model.add(Bidirectional(CuDNNLSTM(32,return_sequences=False)))\n",
    "model.add(SeqSelfAttention(attention_activation='sigmoid'))\n",
    "model.add(Flatten())\n",
    "model.add(Dense(32,activation = 'relu'))\n",
    "model.add(Dense(8,activation = 'sigmoid'))\n",
    "model.compile(optimizer='adam',loss='binary_crossentropy',metrics = ['accuracy'])\n",
    "history = model.fit(X_train,Y_train,epochs = 5,batch_size=256,validation_split=0.2)"
   ]
  },
  {
   "cell_type": "code",
   "execution_count": 102,
   "metadata": {},
   "outputs": [],
   "source": [
    "validation_result = model.predict_classes(X_test)"
   ]
  },
  {
   "cell_type": "code",
   "execution_count": 103,
   "metadata": {},
   "outputs": [
    {
     "name": "stdout",
     "output_type": "stream",
     "text": [
      "[5 5 1 5 7 7 4 5 1 2]\n"
     ]
    }
   ],
   "source": [
    "print(validation_result[:10])"
   ]
  },
  {
   "cell_type": "code",
   "execution_count": 104,
   "metadata": {},
   "outputs": [],
   "source": [
    "#['anger' 'anticipation' 'disgust' 'fear' 'joy' 'sadness' 'surprise'\n",
    " #'trust']\n",
    "    \n",
    "predict_emotion = []\n",
    "for i in range(len(validation_result)):\n",
    "    if validation_result[i] == 0:\n",
    "        predict_emotion.append('anger')\n",
    "    if validation_result[i] == 1:\n",
    "        predict_emotion.append('anticipation')\n",
    "    if validation_result[i] == 2:\n",
    "        predict_emotion.append('disgust')\n",
    "    if validation_result[i] == 3:\n",
    "        predict_emotion.append('fear')\n",
    "    if validation_result[i] == 4:\n",
    "        predict_emotion.append('joy')\n",
    "    if validation_result[i] == 5:\n",
    "        predict_emotion.append('sadness') \n",
    "    if validation_result[i] == 6:\n",
    "        predict_emotion.append('surprise')\n",
    "    if validation_result[i] == 7:\n",
    "        predict_emotion.append('trust')"
   ]
  },
  {
   "cell_type": "code",
   "execution_count": 105,
   "metadata": {},
   "outputs": [],
   "source": [
    "Y_test = label_decode(label_encoder, Y_test)"
   ]
  },
  {
   "cell_type": "code",
   "execution_count": 106,
   "metadata": {},
   "outputs": [
    {
     "name": "stdout",
     "output_type": "stream",
     "text": [
      "['sadness', 'sadness', 'anticipation', 'sadness', 'trust', 'trust', 'joy', 'sadness', 'anticipation', 'disgust']\n",
      "['sadness' 'sadness' 'joy' 'sadness' 'trust' 'joy' 'joy' 'disgust' 'trust'\n",
      " 'anticipation']\n"
     ]
    }
   ],
   "source": [
    "print(predict_emotion[:10])\n",
    "print(Y_test[:10])"
   ]
  },
  {
   "cell_type": "code",
   "execution_count": 107,
   "metadata": {},
   "outputs": [
    {
     "data": {
      "text/plain": [
       "0.40207551729862495"
      ]
     },
     "execution_count": 107,
     "metadata": {},
     "output_type": "execute_result"
    }
   ],
   "source": [
    "import sklearn\n",
    "sklearn.metrics.f1_score(Y_test, predict_emotion,average='weighted')"
   ]
  },
  {
   "cell_type": "code",
   "execution_count": null,
   "metadata": {},
   "outputs": [],
   "source": [
    "x_test = Test['text']\n",
    "x_test = token.texts_to_sequences(x_test)\n",
    "testing_seq = pad_sequences(x_test,maxlen=200)"
   ]
  },
  {
   "cell_type": "code",
   "execution_count": null,
   "metadata": {},
   "outputs": [],
   "source": [
    "predict = model.predict_classes(testing_seq)"
   ]
  },
  {
   "cell_type": "code",
   "execution_count": null,
   "metadata": {},
   "outputs": [],
   "source": [
    "#['anger' 'anticipation' 'disgust' 'fear' 'joy' 'sadness' 'surprise'\n",
    " #'trust']\n",
    "predict_emotion = []\n",
    "for i in range(len(predict)):\n",
    "    if predict[i] == 0:\n",
    "        predict_emotion.append('anger')\n",
    "    if predict[i] == 1:\n",
    "        predict_emotion.append('anticipation')\n",
    "    if predict[i] == 2:\n",
    "        predict_emotion.append('disgust')\n",
    "    if predict[i] == 3:\n",
    "        predict_emotion.append('fear')\n",
    "    if predict[i] == 4:\n",
    "        predict_emotion.append('joy')\n",
    "    if predict[i] == 5:\n",
    "        predict_emotion.append('sadness') \n",
    "    if predict[i] == 6:\n",
    "        predict_emotion.append('surprise')\n",
    "    if predict[i] == 7:\n",
    "        predict_emotion.append('trust')\n",
    "    "
   ]
  },
  {
   "cell_type": "code",
   "execution_count": 116,
   "metadata": {},
   "outputs": [
    {
     "data": {
      "text/plain": [
       "['anticipation',\n",
       " 'anticipation',\n",
       " 'joy',\n",
       " 'joy',\n",
       " 'trust',\n",
       " 'sadness',\n",
       " 'joy',\n",
       " 'joy',\n",
       " 'joy',\n",
       " 'sadness']"
      ]
     },
     "execution_count": 116,
     "metadata": {},
     "output_type": "execute_result"
    }
   ],
   "source": [
    "predict_emotion[:10]"
   ]
  },
  {
   "cell_type": "code",
   "execution_count": 117,
   "metadata": {},
   "outputs": [
    {
     "name": "stdout",
     "output_type": "stream",
     "text": [
      "411972\n"
     ]
    }
   ],
   "source": [
    "print(len(predict_emotion))"
   ]
  },
  {
   "cell_type": "code",
   "execution_count": 118,
   "metadata": {},
   "outputs": [],
   "source": [
    "with open('Submission.csv','w',newline = '') as csvfile:\n",
    "  csvfile.truncate()\n",
    "  writer = csv.writer(csvfile)\n",
    "\n",
    "  # 寫入一列資料\n",
    "  writer.writerow(['id', 'emotion'])\n",
    "\n",
    "  # 寫入另外幾列資料\n",
    "  for i in range(len(predict_emotion)):\n",
    "      writer.writerow([testset[i]['_source']['tweet']['tweet_id'], predict_emotion[i]])\n",
    "  \n",
    "    \n",
    "csvfile.close()"
   ]
  }
 ],
 "metadata": {
  "kernelspec": {
   "display_name": "Python 3",
   "language": "python",
   "name": "python3"
  },
  "language_info": {
   "codemirror_mode": {
    "name": "ipython",
    "version": 3
   },
   "file_extension": ".py",
   "mimetype": "text/x-python",
   "name": "python",
   "nbconvert_exporter": "python",
   "pygments_lexer": "ipython3",
   "version": "3.7.4"
  }
 },
 "nbformat": 4,
 "nbformat_minor": 2
}
